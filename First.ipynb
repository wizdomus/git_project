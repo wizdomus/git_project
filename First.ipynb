{
 "cells": [
  {
   "cell_type": "code",
   "execution_count": 1,
   "id": "9cc63a13-35cd-4957-8efd-21d61153c2f2",
   "metadata": {},
   "outputs": [
    {
     "name": "stdout",
     "output_type": "stream",
     "text": [
      "Member 1이 작업함\n"
     ]
    }
   ],
   "source": [
    "print('Member 1이 작업함')"
   ]
  },
  {
   "cell_type": "code",
   "execution_count": 2,
   "id": "81a2d6b7-aaec-4147-9001-4cbc8f6aaee1",
   "metadata": {},
   "outputs": [
    {
     "name": "stdout",
     "output_type": "stream",
     "text": [
      "Member 1이 또 작업함\n"
     ]
    }
   ],
   "source": [
    "print('Member 1이 또 작업함')"
   ]
  },
  {
   "cell_type": "code",
   "execution_count": 3,
   "id": "4eecf915-8b3b-4149-a63a-e7f2a1402bb0",
   "metadata": {},
   "outputs": [
    {
     "name": "stdout",
     "output_type": "stream",
     "text": [
      "브랜치에서 작업함\n"
     ]
    }
   ],
   "source": [
    "print('브랜치에서 작업함')"
   ]
  },
  {
   "cell_type": "code",
   "execution_count": null,
   "id": "79b892ff-f134-4bb3-8723-6e8d3c12f54e",
   "metadata": {},
   "outputs": [],
   "source": [
    "냠냠 "
   ]
  }
 ],
 "metadata": {
  "kernelspec": {
   "display_name": "Python 3 (ipykernel)",
   "language": "python",
   "name": "python3"
  },
  "language_info": {
   "codemirror_mode": {
    "name": "ipython",
    "version": 3
   },
   "file_extension": ".py",
   "mimetype": "text/x-python",
   "name": "python",
   "nbconvert_exporter": "python",
   "pygments_lexer": "ipython3",
   "version": "3.11.5"
  }
 },
 "nbformat": 4,
 "nbformat_minor": 5
}
